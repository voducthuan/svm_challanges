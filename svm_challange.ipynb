{
 "cells": [
  {
   "cell_type": "code",
   "execution_count": 9,
   "id": "maritime-friendship",
   "metadata": {},
   "outputs": [
    {
     "name": "stderr",
     "output_type": "stream",
     "text": [
      "Using TensorFlow backend.\n"
     ]
    }
   ],
   "source": [
    "\"\"\"\n",
    "Created on Thu Jul  1 17:33:14 2021\n",
    "@author: Vo Duc Thuan\n",
    "\"\"\"\n",
    "# you do not have to use every package below, and please do not modify\n",
    "import tensorflow as tf\n",
    "from tensorflow.keras.losses import Loss\n",
    "from sklearn.svm import OneClassSVM\n",
    "from sklearn.metrics import accuracy_score\n",
    "import numpy as np\n",
    "import keras"
   ]
  },
  {
   "cell_type": "code",
   "execution_count": 10,
   "id": "ignored-electricity",
   "metadata": {},
   "outputs": [],
   "source": [
    "# you could write your own data here\n",
    "train_x = np.random.uniform(0,1,(5000, 16))\n",
    "train_y = (np.random.uniform(0,1,(5000,)) > 0.5).astype(np.int)\n",
    "test_x = np.random.uniform(0,2,(1000, 16))\n",
    "test_y = (np.random.uniform(0,1,(1000,)) > 0.5).astype(np.int)"
   ]
  },
  {
   "cell_type": "code",
   "execution_count": 11,
   "id": "affected-local",
   "metadata": {},
   "outputs": [],
   "source": [
    "def my_loss(y_true, y_pred):\n",
    "    error = keras.backend.abs(y_pred - y_true)\n",
    "    error = keras.backend.mean(error, axis=-1)    \n",
    "    return error"
   ]
  },
  {
   "cell_type": "code",
   "execution_count": 12,
   "id": "willing-drain",
   "metadata": {},
   "outputs": [],
   "source": [
    "k = tf.keras\n",
    "l = k.layers\n",
    "model = k.Sequential()\n",
    "model.add(l.Dense(10, input_dim=16, activation='relu'))\n",
    "model.add(l.Dense(10, activation='relu'))\n",
    "model.add(l.Dense(1, activation='sigmoid'))"
   ]
  },
  {
   "cell_type": "code",
   "execution_count": 14,
   "id": "dimensional-casting",
   "metadata": {},
   "outputs": [
    {
     "name": "stdout",
     "output_type": "stream",
     "text": [
      "Epoch 1/100\n",
      "25/25 [==============================] - 0s 1ms/step - loss: 0.4545 - accuracy: 0.5604\n",
      "Epoch 2/100\n",
      "25/25 [==============================] - 0s 2ms/step - loss: 0.4533 - accuracy: 0.5648\n",
      "Epoch 3/100\n",
      "25/25 [==============================] - 0s 1ms/step - loss: 0.4525 - accuracy: 0.5636\n",
      "Epoch 4/100\n",
      "25/25 [==============================] - 0s 1ms/step - loss: 0.4520 - accuracy: 0.5632\n",
      "Epoch 5/100\n",
      "25/25 [==============================] - 0s 1ms/step - loss: 0.4516 - accuracy: 0.5612\n",
      "Epoch 6/100\n",
      "25/25 [==============================] - 0s 1ms/step - loss: 0.4514 - accuracy: 0.5620\n",
      "Epoch 7/100\n",
      "25/25 [==============================] - 0s 1ms/step - loss: 0.4513 - accuracy: 0.5628\n",
      "Epoch 8/100\n",
      "25/25 [==============================] - 0s 999us/step - loss: 0.4511 - accuracy: 0.5648\n",
      "Epoch 9/100\n",
      "25/25 [==============================] - 0s 1ms/step - loss: 0.4505 - accuracy: 0.5608\n",
      "Epoch 10/100\n",
      "25/25 [==============================] - 0s 1ms/step - loss: 0.4500 - accuracy: 0.5626\n",
      "Epoch 11/100\n",
      "25/25 [==============================] - 0s 1ms/step - loss: 0.4501 - accuracy: 0.5650\n",
      "Epoch 12/100\n",
      "25/25 [==============================] - 0s 1ms/step - loss: 0.4504 - accuracy: 0.5636\n",
      "Epoch 13/100\n",
      "25/25 [==============================] - 0s 1ms/step - loss: 0.4494 - accuracy: 0.5644\n",
      "Epoch 14/100\n",
      "25/25 [==============================] - 0s 1ms/step - loss: 0.4496 - accuracy: 0.5642\n",
      "Epoch 15/100\n",
      "25/25 [==============================] - 0s 999us/step - loss: 0.4483 - accuracy: 0.5648\n",
      "Epoch 16/100\n",
      "25/25 [==============================] - 0s 924us/step - loss: 0.4484 - accuracy: 0.5632\n",
      "Epoch 17/100\n",
      "25/25 [==============================] - 0s 959us/step - loss: 0.4483 - accuracy: 0.5634\n",
      "Epoch 18/100\n",
      "25/25 [==============================] - 0s 1ms/step - loss: 0.4479 - accuracy: 0.5658\n",
      "Epoch 19/100\n",
      "25/25 [==============================] - 0s 959us/step - loss: 0.4473 - accuracy: 0.5674\n",
      "Epoch 20/100\n",
      "25/25 [==============================] - 0s 959us/step - loss: 0.4474 - accuracy: 0.5652\n",
      "Epoch 21/100\n",
      "25/25 [==============================] - 0s 959us/step - loss: 0.4470 - accuracy: 0.5654\n",
      "Epoch 22/100\n",
      "25/25 [==============================] - 0s 1ms/step - loss: 0.4464 - accuracy: 0.5626\n",
      "Epoch 23/100\n",
      "25/25 [==============================] - 0s 1ms/step - loss: 0.4462 - accuracy: 0.5660\n",
      "Epoch 24/100\n",
      "25/25 [==============================] - 0s 959us/step - loss: 0.4463 - accuracy: 0.5664\n",
      "Epoch 25/100\n",
      "25/25 [==============================] - 0s 958us/step - loss: 0.4455 - accuracy: 0.5676\n",
      "Epoch 26/100\n",
      "25/25 [==============================] - 0s 1ms/step - loss: 0.4452 - accuracy: 0.5664\n",
      "Epoch 27/100\n",
      "25/25 [==============================] - 0s 959us/step - loss: 0.4453 - accuracy: 0.5662\n",
      "Epoch 28/100\n",
      "25/25 [==============================] - 0s 999us/step - loss: 0.4449 - accuracy: 0.5658\n",
      "Epoch 29/100\n",
      "25/25 [==============================] - 0s 1ms/step - loss: 0.4443 - accuracy: 0.5660\n",
      "Epoch 30/100\n",
      "25/25 [==============================] - 0s 961us/step - loss: 0.4442 - accuracy: 0.5682\n",
      "Epoch 31/100\n",
      "25/25 [==============================] - 0s 999us/step - loss: 0.4442 - accuracy: 0.5678\n",
      "Epoch 32/100\n",
      "25/25 [==============================] - 0s 959us/step - loss: 0.4436 - accuracy: 0.5662\n",
      "Epoch 33/100\n",
      "25/25 [==============================] - 0s 921us/step - loss: 0.4437 - accuracy: 0.5678\n",
      "Epoch 34/100\n",
      "25/25 [==============================] - 0s 1ms/step - loss: 0.4432 - accuracy: 0.5664\n",
      "Epoch 35/100\n",
      "25/25 [==============================] - 0s 1ms/step - loss: 0.4431 - accuracy: 0.5672\n",
      "Epoch 36/100\n",
      "25/25 [==============================] - 0s 1ms/step - loss: 0.4429 - accuracy: 0.5728\n",
      "Epoch 37/100\n",
      "25/25 [==============================] - 0s 1ms/step - loss: 0.4426 - accuracy: 0.5672\n",
      "Epoch 38/100\n",
      "25/25 [==============================] - 0s 999us/step - loss: 0.4426 - accuracy: 0.5670\n",
      "Epoch 39/100\n",
      "25/25 [==============================] - 0s 959us/step - loss: 0.4432 - accuracy: 0.5710\n",
      "Epoch 40/100\n",
      "25/25 [==============================] - 0s 1ms/step - loss: 0.4421 - accuracy: 0.5694\n",
      "Epoch 41/100\n",
      "25/25 [==============================] - 0s 999us/step - loss: 0.4416 - accuracy: 0.5726\n",
      "Epoch 42/100\n",
      "25/25 [==============================] - 0s 919us/step - loss: 0.4413 - accuracy: 0.5706\n",
      "Epoch 43/100\n",
      "25/25 [==============================] - 0s 959us/step - loss: 0.4418 - accuracy: 0.5720\n",
      "Epoch 44/100\n",
      "25/25 [==============================] - 0s 999us/step - loss: 0.4414 - accuracy: 0.5718\n",
      "Epoch 45/100\n",
      "25/25 [==============================] - 0s 957us/step - loss: 0.4410 - accuracy: 0.5700\n",
      "Epoch 46/100\n",
      "25/25 [==============================] - 0s 919us/step - loss: 0.4404 - accuracy: 0.5710\n",
      "Epoch 47/100\n",
      "25/25 [==============================] - 0s 965us/step - loss: 0.4403 - accuracy: 0.5744\n",
      "Epoch 48/100\n",
      "25/25 [==============================] - 0s 955us/step - loss: 0.4401 - accuracy: 0.5754\n",
      "Epoch 49/100\n",
      "25/25 [==============================] - 0s 1ms/step - loss: 0.4399 - accuracy: 0.5720\n",
      "Epoch 50/100\n",
      "25/25 [==============================] - 0s 999us/step - loss: 0.4396 - accuracy: 0.5754\n",
      "Epoch 51/100\n",
      "25/25 [==============================] - 0s 1ms/step - loss: 0.4397 - accuracy: 0.5728\n",
      "Epoch 52/100\n",
      "25/25 [==============================] - 0s 941us/step - loss: 0.4405 - accuracy: 0.5726\n",
      "Epoch 53/100\n",
      "25/25 [==============================] - 0s 936us/step - loss: 0.4391 - accuracy: 0.5736\n",
      "Epoch 54/100\n",
      "25/25 [==============================] - 0s 999us/step - loss: 0.4390 - accuracy: 0.5738\n",
      "Epoch 55/100\n",
      "25/25 [==============================] - 0s 919us/step - loss: 0.4392 - accuracy: 0.5740\n",
      "Epoch 56/100\n",
      "25/25 [==============================] - 0s 923us/step - loss: 0.4387 - accuracy: 0.5748\n",
      "Epoch 57/100\n",
      "25/25 [==============================] - 0s 959us/step - loss: 0.4385 - accuracy: 0.5748\n",
      "Epoch 58/100\n",
      "25/25 [==============================] - 0s 999us/step - loss: 0.4381 - accuracy: 0.5758\n",
      "Epoch 59/100\n",
      "25/25 [==============================] - 0s 922us/step - loss: 0.4381 - accuracy: 0.5772\n",
      "Epoch 60/100\n",
      "25/25 [==============================] - 0s 926us/step - loss: 0.4379 - accuracy: 0.5760\n",
      "Epoch 61/100\n",
      "25/25 [==============================] - 0s 931us/step - loss: 0.4379 - accuracy: 0.5756\n",
      "Epoch 62/100\n",
      "25/25 [==============================] - 0s 879us/step - loss: 0.4374 - accuracy: 0.5794\n",
      "Epoch 63/100\n",
      "25/25 [==============================] - 0s 999us/step - loss: 0.4373 - accuracy: 0.5760\n",
      "Epoch 64/100\n",
      "25/25 [==============================] - 0s 877us/step - loss: 0.4368 - accuracy: 0.5758\n",
      "Epoch 65/100\n",
      "25/25 [==============================] - 0s 960us/step - loss: 0.4368 - accuracy: 0.5780\n",
      "Epoch 66/100\n",
      "25/25 [==============================] - 0s 879us/step - loss: 0.4364 - accuracy: 0.5796\n",
      "Epoch 67/100\n",
      "25/25 [==============================] - 0s 923us/step - loss: 0.4363 - accuracy: 0.5772\n",
      "Epoch 68/100\n",
      "25/25 [==============================] - 0s 879us/step - loss: 0.4362 - accuracy: 0.5782\n",
      "Epoch 69/100\n",
      "25/25 [==============================] - 0s 887us/step - loss: 0.4363 - accuracy: 0.5744\n",
      "Epoch 70/100\n",
      "25/25 [==============================] - 0s 882us/step - loss: 0.4364 - accuracy: 0.5776\n",
      "Epoch 71/100\n",
      "25/25 [==============================] - 0s 964us/step - loss: 0.4353 - accuracy: 0.5784\n",
      "Epoch 72/100\n",
      "25/25 [==============================] - 0s 894us/step - loss: 0.4353 - accuracy: 0.5782\n",
      "Epoch 73/100\n",
      "25/25 [==============================] - 0s 919us/step - loss: 0.4351 - accuracy: 0.5792\n",
      "Epoch 74/100\n",
      "25/25 [==============================] - 0s 959us/step - loss: 0.4354 - accuracy: 0.5800\n",
      "Epoch 75/100\n",
      "25/25 [==============================] - 0s 885us/step - loss: 0.4355 - accuracy: 0.5782\n",
      "Epoch 76/100\n",
      "25/25 [==============================] - 0s 879us/step - loss: 0.4354 - accuracy: 0.5760\n",
      "Epoch 77/100\n",
      "25/25 [==============================] - 0s 935us/step - loss: 0.4346 - accuracy: 0.5802\n",
      "Epoch 78/100\n",
      "25/25 [==============================] - 0s 909us/step - loss: 0.4342 - accuracy: 0.5786\n",
      "Epoch 79/100\n",
      "25/25 [==============================] - 0s 919us/step - loss: 0.4341 - accuracy: 0.5790\n",
      "Epoch 80/100\n",
      "25/25 [==============================] - 0s 919us/step - loss: 0.4336 - accuracy: 0.5788\n",
      "Epoch 81/100\n"
     ]
    },
    {
     "name": "stdout",
     "output_type": "stream",
     "text": [
      "25/25 [==============================] - 0s 919us/step - loss: 0.4335 - accuracy: 0.5798\n",
      "Epoch 82/100\n",
      "25/25 [==============================] - 0s 879us/step - loss: 0.4342 - accuracy: 0.5780\n",
      "Epoch 83/100\n",
      "25/25 [==============================] - 0s 919us/step - loss: 0.4334 - accuracy: 0.5802\n",
      "Epoch 84/100\n",
      "25/25 [==============================] - 0s 946us/step - loss: 0.4338 - accuracy: 0.5780\n",
      "Epoch 85/100\n",
      "25/25 [==============================] - 0s 895us/step - loss: 0.4325 - accuracy: 0.5804\n",
      "Epoch 86/100\n",
      "25/25 [==============================] - 0s 884us/step - loss: 0.4327 - accuracy: 0.5790\n",
      "Epoch 87/100\n",
      "25/25 [==============================] - 0s 886us/step - loss: 0.4322 - accuracy: 0.5822\n",
      "Epoch 88/100\n",
      "25/25 [==============================] - 0s 919us/step - loss: 0.4325 - accuracy: 0.5778\n",
      "Epoch 89/100\n",
      "25/25 [==============================] - 0s 919us/step - loss: 0.4323 - accuracy: 0.5786\n",
      "Epoch 90/100\n",
      "25/25 [==============================] - 0s 885us/step - loss: 0.4319 - accuracy: 0.5812\n",
      "Epoch 91/100\n",
      "25/25 [==============================] - 0s 879us/step - loss: 0.4318 - accuracy: 0.5800\n",
      "Epoch 92/100\n",
      "25/25 [==============================] - 0s 896us/step - loss: 0.4315 - accuracy: 0.5810\n",
      "Epoch 93/100\n",
      "25/25 [==============================] - 0s 924us/step - loss: 0.4313 - accuracy: 0.5818\n",
      "Epoch 94/100\n",
      "25/25 [==============================] - 0s 892us/step - loss: 0.4310 - accuracy: 0.5814\n",
      "Epoch 95/100\n",
      "25/25 [==============================] - 0s 923us/step - loss: 0.4313 - accuracy: 0.5814\n",
      "Epoch 96/100\n",
      "25/25 [==============================] - 0s 959us/step - loss: 0.4305 - accuracy: 0.5828\n",
      "Epoch 97/100\n",
      "25/25 [==============================] - 0s 919us/step - loss: 0.4305 - accuracy: 0.5804\n",
      "Epoch 98/100\n",
      "25/25 [==============================] - 0s 879us/step - loss: 0.4304 - accuracy: 0.5828\n",
      "Epoch 99/100\n",
      "25/25 [==============================] - 0s 919us/step - loss: 0.4303 - accuracy: 0.5812\n",
      "Epoch 100/100\n",
      "25/25 [==============================] - 0s 919us/step - loss: 0.4305 - accuracy: 0.5814\n"
     ]
    },
    {
     "data": {
      "text/plain": [
       "<tensorflow.python.keras.callbacks.History at 0x2920807f3c8>"
      ]
     },
     "execution_count": 14,
     "metadata": {},
     "output_type": "execute_result"
    }
   ],
   "source": [
    "#model.compile(optimizer='sgd', loss=my_loss)\n",
    "model.compile(loss=my_loss, optimizer='adam', metrics=['accuracy'])\n",
    "model.fit(train_x, train_y, batch_size=200, epochs=100)"
   ]
  },
  {
   "cell_type": "code",
   "execution_count": 16,
   "id": "paperback-float",
   "metadata": {},
   "outputs": [
    {
     "data": {
      "text/plain": [
       "OneClassSVM(kernel='sigmoid', nu=0.03)"
      ]
     },
     "execution_count": 16,
     "metadata": {},
     "output_type": "execute_result"
    }
   ],
   "source": [
    "one_class_svm = OneClassSVM(kernel=\"sigmoid\", gamma='scale', nu=0.03)\n",
    "train_x_2 = model.predict(train_x)\n",
    "one_class_svm.fit(train_x_2)"
   ]
  },
  {
   "cell_type": "code",
   "execution_count": 17,
   "id": "documentary-pickup",
   "metadata": {},
   "outputs": [
    {
     "name": "stdout",
     "output_type": "stream",
     "text": [
      "0.473\n"
     ]
    }
   ],
   "source": [
    "test_x_2 = model.predict(test_x)\n",
    "test_y_pred = one_class_svm.predict(test_x_2)\n",
    "test_y_pred[test_y_pred==-1] = 0\n",
    "\n",
    "print(accuracy_score(test_y_pred, test_y))"
   ]
  }
 ],
 "metadata": {
  "kernelspec": {
   "display_name": "Python 3",
   "language": "python",
   "name": "python3"
  },
  "language_info": {
   "codemirror_mode": {
    "name": "ipython",
    "version": 3
   },
   "file_extension": ".py",
   "mimetype": "text/x-python",
   "name": "python",
   "nbconvert_exporter": "python",
   "pygments_lexer": "ipython3",
   "version": "3.7.9"
  }
 },
 "nbformat": 4,
 "nbformat_minor": 5
}
